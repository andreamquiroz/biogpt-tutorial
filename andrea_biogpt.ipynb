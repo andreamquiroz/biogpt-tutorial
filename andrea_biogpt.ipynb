{
 "cells": [
  {
   "cell_type": "markdown",
   "id": "32cba0e8-582a-4970-bbb3-8c1adfe4da99",
   "metadata": {},
   "source": [
    "# **BioGPT**"
   ]
  },
  {
   "cell_type": "markdown",
   "id": "ce1f45cd-57e6-4db3-91b5-11d25845f35e",
   "metadata": {},
   "source": [
    "## A domain-specific generative Transformer language model pre-trained on large-scale biomedical literature."
   ]
  },
  {
   "cell_type": "code",
   "execution_count": 1,
   "id": "944e40d6-602a-4476-864b-4d8047a921a6",
   "metadata": {
    "scrolled": true
   },
   "outputs": [
    {
     "data": {
      "application/vnd.jupyter.widget-view+json": {
       "model_id": "74962ecc8d3d40e6b1da298187acb935",
       "version_major": 2,
       "version_minor": 0
      },
      "text/plain": [
       "pytorch_model.bin:   0%|          | 0.00/1.56G [00:00<?, ?B/s]"
      ]
     },
     "metadata": {},
     "output_type": "display_data"
    }
   ],
   "source": [
    "from transformers import AutoModelForCausalLM, AutoTokenizer\n",
    "\n",
    "model_name = \"microsoft/BioGPT\"\n",
    "tokenizer = AutoTokenizer.from_pretrained(model_name)\n",
    "model = AutoModelForCausalLM.from_pretrained(model_name)"
   ]
  },
  {
   "cell_type": "code",
   "execution_count": 2,
   "id": "cb91e632-1155-452c-a083-d582603d6909",
   "metadata": {},
   "outputs": [
    {
     "name": "stdout",
     "output_type": "stream",
     "text": [
      "What is the role of AI in healthcare?\n"
     ]
    }
   ],
   "source": [
    "input_text = \"What is the role of AI in healthcare?\"\n",
    "inputs = tokenizer(input_text, return_tensors=\"pt\")\n",
    "outputs = model.generate(inputs[\"input_ids\"], max_length=50, num_beams=5, early_stopping=True)\n",
    "\n",
    "print(tokenizer.decode(outputs[0], skip_special_tokens=True))"
   ]
  },
  {
   "cell_type": "code",
   "execution_count": 4,
   "id": "cc601076-77b3-44d4-9f81-92f2bc5d742e",
   "metadata": {},
   "outputs": [
    {
     "data": {
      "text/plain": [
       "'COVID-19 is a global pandemic caused by severe acute respiratory syndrome coronavirus 2 (SARS-CoV-2), the causative agent of coronavirus disease 2019 (COVID-19), which has spread to more than 200 countries and territories, including the United States (US), Canada, Australia, New Zealand, the United Kingdom (UK), and the United States of America (USA), as of March 11, 2020, with more than 800,000 confirmed cases and more than 800,000 deaths.'"
      ]
     },
     "execution_count": 4,
     "metadata": {},
     "output_type": "execute_result"
    }
   ],
   "source": [
    "import torch\n",
    "from transformers import BioGptTokenizer, BioGptForCausalLM, set_seed\n",
    "\n",
    "sentence = \"COVID-19 is\"\n",
    "inputs = tokenizer(sentence, return_tensors=\"pt\")\n",
    "\n",
    "set_seed(42)\n",
    "\n",
    "with torch.no_grad():\n",
    "    beam_output = model.generate(**inputs,\n",
    "                                min_length=100,\n",
    "                                max_length=1024,\n",
    "                                num_beams=5,\n",
    "                                early_stopping=True\n",
    "                                )\n",
    "tokenizer.decode(beam_output[0], skip_special_tokens=True)"
   ]
  },
  {
   "cell_type": "markdown",
   "id": "0832c936-5a96-46e0-afbe-7fac0c7c3f4a",
   "metadata": {},
   "source": [
    "### Comments:\n",
    "Currently we are considering two paths:\n",
    "1. Fine-tune medical pre-trained models and change their attention mechanisms + deal with long context window problem\n",
    "\n",
    "2. Fine-tune SOTA models and make the medical version of it. "
   ]
  },
  {
   "cell_type": "code",
   "execution_count": null,
   "id": "8390a3de-62a9-4755-9e2e-180ab277de99",
   "metadata": {},
   "outputs": [],
   "source": []
  }
 ],
 "metadata": {
  "kernelspec": {
   "display_name": "Python 3 (ipykernel)",
   "language": "python",
   "name": "python3"
  },
  "language_info": {
   "codemirror_mode": {
    "name": "ipython",
    "version": 3
   },
   "file_extension": ".py",
   "mimetype": "text/x-python",
   "name": "python",
   "nbconvert_exporter": "python",
   "pygments_lexer": "ipython3",
   "version": "3.9.21"
  }
 },
 "nbformat": 4,
 "nbformat_minor": 5
}
